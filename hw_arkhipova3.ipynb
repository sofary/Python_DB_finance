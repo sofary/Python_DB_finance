{
 "cells": [
  {
   "cell_type": "markdown",
   "metadata": {},
   "source": [
    "# Задача 1 \n",
    "Посчитать численно $DV01$ как разностную производную.\n",
    "1. Номер выпуска облигации определяет функция getBond ниже \n",
    "1. Процентные ставки известны ниже curve_tenors, curve_rates\n",
    "1. Использоватье линейнйую интерполяцию кубическими сплайнами (см. пример ниже)"
   ]
  },
  {
   "cell_type": "markdown",
   "metadata": {},
   "source": [
    "$$ PV  = PV (r_1, r_2, r_3, ..., r_N) = \\sum \\limits_{i=1}^{N} \\frac{C_i}{(1 + r_i)^{t_i}} $$\n",
    "где $r_i$ - значение ставки, $C_i$ - выплата в день купонного платежа под номером $i$\n",
    "\n",
    "$$ DV01 (r_1, r_2,  ..., r_N) = \\lim \\limits_{\\delta \\to 0} \\frac{PV (r_1 + \\delta r, r_2 + \\delta r, ..., r_N + \\delta r) - PV (r_1, r_2,  ..., r_N)}{\\delta r}  \\approx\n",
    "\\frac{PV (r_1 + \\Delta r, r_2 + \\Delta r, ..., r_N + \\Delta r) - PV (r_1, r_2,  ..., r_N)}{\\Delta r}$$"
   ]
  },
  {
   "cell_type": "code",
   "execution_count": 1,
   "metadata": {},
   "outputs": [
    {
     "data": {
      "text/plain": [
       "'53004RMFS'"
      ]
     },
     "execution_count": 1,
     "metadata": {},
     "output_type": "execute_result"
    }
   ],
   "source": [
    "def getBond(email):\n",
    "    ccy = ['53004RMFS', '53003RMFS', '53005RMFS']\n",
    "    h = hash(email)\n",
    "    return ccy[h % len(ccy)]\n",
    "getBond('iamastonelady@gmail.com')"
   ]
  },
  {
   "cell_type": "code",
   "execution_count": 15,
   "metadata": {},
   "outputs": [
    {
     "data": {
      "text/plain": [
       "array([0.04279136, 0.04496374, 0.04734704])"
      ]
     },
     "execution_count": 15,
     "metadata": {},
     "output_type": "execute_result"
    }
   ],
   "source": [
    "import numpy as np\n",
    "import scipy.optimize\n",
    "import scipy.interpolate\n",
    "import matplotlib.pyplot as pt\n",
    "import pandas as pd\n",
    "\n",
    "curve_tenors = np.array([0.25, 0.5, 0.75, 1.0, 2.0, 3.0, 5.0, 7.0, 10.0, 15.0, 20.0, 30.0])\n",
    "curve_rates = np.array([4.17,4.21,4.26,4.32,4.59,4.88,5.41,5.83,6.26,6.62,6.79,6.98])*1e-2\n",
    "\n",
    "f = scipy.interpolate.interp1d(curve_tenors, curve_rates, kind = 'cubic')\n",
    "f(np.array([10, 20, 30]) / 12) # пример ставки на 10M, 20M, 30M"
   ]
  },
  {
   "cell_type": "code",
   "execution_count": 11,
   "metadata": {},
   "outputs": [],
   "source": [
    "#задача 1-\n"
   ]
  },
  {
   "cell_type": "code",
   "execution_count": 46,
   "metadata": {},
   "outputs": [],
   "source": [
    "days = np.array([184, 182, 182, 182, 182, 182])\n",
    "coupons = np.array([6.50, 7.00, 7.05, 7.10, 7.25, 7.35])\n",
    "payments = np.array([32.77, 34.90, 35.15, 35.40, 36.15, 1211.02])\n",
    "\n",
    "days*coupons/payments*10\n",
    "day_count=365"
   ]
  },
  {
   "cell_type": "code",
   "execution_count": 51,
   "metadata": {},
   "outputs": [],
   "source": [
    "days = np.array([184, 182, 182, 182, 182, 182]) \n",
    "payments = np.array([32.77, 34.90, 35.15, 35.40, 36.15, 1211.02])\n",
    "\n",
    "Price = 1.028627*1000 + 20.30 \n",
    "\n",
    "def pv_ytm(days, payments, ytm):\n",
    "    days = np.cumsum(days) / 365  # use the right day count\n",
    "    df = np.power(1.0 / (ytm + 1.0), days)\n",
    "    return np.sum(payments*df)\n",
    "\n",
    "ytm = scipy.optimize.broyden1( lambda x: (pv_ytm(days, payments, x) - Price)**2, 0.0)\n",
    "\n",
    "PV=pv_ytm(days, payments, ytm)"
   ]
  },
  {
   "cell_type": "code",
   "execution_count": 52,
   "metadata": {},
   "outputs": [
    {
     "data": {
      "text/plain": [
       "0.2638829310963047"
      ]
     },
     "execution_count": 52,
     "metadata": {},
     "output_type": "execute_result"
    }
   ],
   "source": [
    "dv01_num = 0.5*(pv_ytm(days, payments, ytm-1e-4) - pv_ytm(days, payments, ytm+1e-4))\n",
    "dv01_num"
   ]
  },
  {
   "cell_type": "markdown",
   "metadata": {},
   "source": [
    "# Задача 2\n",
    "\n",
    "1. Таблица ниже описывает облигацию, необходимо ее захеджировать [ОФЗ](https://special.minfin.gov.ru/ru/document/?id_4=130822-parametry_obligatsii_federalnogo_zaima_dlya_fizicheskikh_lits_ofz-n_vypuska__53006rmfs) \n",
    "\n",
    "Использовать для расчета $DV01$ [кривую](https://www.moex.com/ru/marketdata/indices/state/g-curve/)\n",
    "\n",
    "Чему равна $beta$?\n",
    "\n",
    "\n",
    "| Date | Coupon |\n",
    "|-------|-----------|\n",
    "| 2021-02-24 | 34.9 |\n",
    "| 2021-08-25 | 34.9|\n",
    "| 2022-02-23 | 34.9|\n",
    "| 2022-08-24 | 34.9 |\n",
    "| 2023-02-22 | 34.9 |\n",
    "| 2023-08-23 | 1034.9|\n",
    "\n",
    "2. Построить график $PV$ портфеля от величины вертикального сдвига кривой $\\Delta$\n",
    "$$ PV (r; \\Delta) = PV (r_1 + \\Delta, r_2+ \\Delta, r_3+ \\Delta, ..., r_N+ \\Delta) = \\sum \\limits_{i=1}^{N} \\frac{C_i}{(1 + r_i + \\Delta)^{t_i}} $$\n",
    "\n",
    "\n",
    "\n"
   ]
  }
 ],
 "metadata": {
  "kernelspec": {
   "display_name": "Python 3",
   "language": "python",
   "name": "python3"
  },
  "language_info": {
   "codemirror_mode": {
    "name": "ipython",
    "version": 3
   },
   "file_extension": ".py",
   "mimetype": "text/x-python",
   "name": "python",
   "nbconvert_exporter": "python",
   "pygments_lexer": "ipython3",
   "version": "3.9.2"
  }
 },
 "nbformat": 4,
 "nbformat_minor": 4
}
